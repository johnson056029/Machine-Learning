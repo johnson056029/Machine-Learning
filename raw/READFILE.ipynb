{
 "cells": [
  {
   "cell_type": "code",
   "execution_count": 2,
   "metadata": {},
   "outputs": [],
   "source": [
    "import numpy as np\n",
    "import re\n",
    "\n",
    "# read in txt file consists of 2-d data points and output a numpy array of num_data_pointsX2\n",
    "\n",
    "def read_data_points(file_name):\n",
    "    file_string = open(file_name).read()\n",
    "    num_data_points = file_string.count(',')\n",
    "    splitted_string = re.split('[,\\n]', file_string)\n",
    "    splitted_float_mapobj = map(float, splitted_string)\n",
    "    splitted_float = list(splitted_float_mapobj)\n",
    "    data_points_array = np.array(splitted_float).reshape(num_data_points, 2)\n",
    "    return data_points_array"
   ]
  }
 ],
 "metadata": {
  "kernelspec": {
   "display_name": "Python 3",
   "language": "python",
   "name": "python3"
  },
  "language_info": {
   "codemirror_mode": {
    "name": "ipython",
    "version": 3
   },
   "file_extension": ".py",
   "mimetype": "text/x-python",
   "name": "python",
   "nbconvert_exporter": "python",
   "pygments_lexer": "ipython3",
   "version": "3.8.6"
  }
 },
 "nbformat": 4,
 "nbformat_minor": 4
}
