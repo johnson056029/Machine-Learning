{
 "cells": [
  {
   "cell_type": "code",
   "execution_count": 306,
   "metadata": {},
   "outputs": [],
   "source": [
    "# this is much more hand-craft version. \n",
    "\n",
    "import numpy as np\n",
    "from numpy.linalg import inv\n",
    "from numpy.linalg import det"
   ]
  },
  {
   "cell_type": "code",
   "execution_count": 307,
   "metadata": {},
   "outputs": [],
   "source": [
    "def subm(A, i, j):\n",
    "    n = A.shape[0]\n",
    "    M = np.empty((n-1)*(n-1))\n",
    "    inc = 0\n",
    "    for row_iter in range(n):\n",
    "        for col_iter in range(n):\n",
    "            if row_iter != i and col_iter !=j:\n",
    "                M[inc] = A[row_iter][col_iter]\n",
    "                inc = inc + 1\n",
    "    M = np.array(M.reshape((n-1,n-1)))\n",
    "    return M"
   ]
  },
  {
   "cell_type": "code",
   "execution_count": 308,
   "metadata": {},
   "outputs": [],
   "source": [
    "def detm(A):\n",
    "    det = 0\n",
    "    if A.shape[0] > 2:\n",
    "        for i in range(A.shape[0]):\n",
    "            det = det + A[i][0] * detm(subm(A,i,0)) * (-1)**i\n",
    "    elif A.shape[0] == 2:\n",
    "        det = A[0][0]*A[1][1] - A[0][1]*A[1][0]\n",
    "    return det"
   ]
  },
  {
   "cell_type": "code",
   "execution_count": 309,
   "metadata": {},
   "outputs": [],
   "source": [
    "def cftr(A,i,j):\n",
    "    return (-1)**(i+j) * detm(subm(A,i,j))"
   ]
  },
  {
   "cell_type": "code",
   "execution_count": 310,
   "metadata": {},
   "outputs": [],
   "source": [
    "def adjt(A):\n",
    "    C = np.zeros((A.shape))\n",
    "    for i in range(A.shape[0]):\n",
    "        for j in range(A.shape[1]):\n",
    "            C[i][j] = cftr(A,i,j) \n",
    "    return C.T"
   ]
  },
  {
   "cell_type": "code",
   "execution_count": 311,
   "metadata": {},
   "outputs": [],
   "source": [
    "def ivrs(A):\n",
    "    return adjt(A) / detm(A)"
   ]
  },
  {
   "cell_type": "code",
   "execution_count": 312,
   "metadata": {},
   "outputs": [
    {
     "name": "stdout",
     "output_type": "stream",
     "text": [
      "[[ 1.  -0.5 -1. ]\n",
      " [ 1.  -1.  -1. ]\n",
      " [ 3.  -2.5 -4. ]]\n",
      "[[1. 0. 0.]\n",
      " [0. 1. 0.]\n",
      " [0. 0. 1.]]\n"
     ]
    }
   ],
   "source": [
    "B = np.array([[3,1,-1],[2,-2,0],[1,2,-1]])\n",
    "print(ivrs(B))\n",
    "print(B@ivrs(B))"
   ]
  }
 ],
 "metadata": {
  "kernelspec": {
   "display_name": "Python 3",
   "language": "python",
   "name": "python3"
  },
  "language_info": {
   "codemirror_mode": {
    "name": "ipython",
    "version": 3
   },
   "file_extension": ".py",
   "mimetype": "text/x-python",
   "name": "python",
   "nbconvert_exporter": "python",
   "pygments_lexer": "ipython3",
   "version": "3.8.6"
  }
 },
 "nbformat": 4,
 "nbformat_minor": 4
}
